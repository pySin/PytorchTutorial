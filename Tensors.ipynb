{
  "nbformat": 4,
  "nbformat_minor": 0,
  "metadata": {
    "colab": {
      "provenance": [],
      "authorship_tag": "ABX9TyPnGufwuOUL6I8FwrAyqRys",
      "include_colab_link": true
    },
    "kernelspec": {
      "name": "python3",
      "display_name": "Python 3"
    },
    "language_info": {
      "name": "python"
    }
  },
  "cells": [
    {
      "cell_type": "markdown",
      "metadata": {
        "id": "view-in-github",
        "colab_type": "text"
      },
      "source": [
        "<a href=\"https://colab.research.google.com/github/pySin/PytorchTutorial/blob/main/Tensors.ipynb\" target=\"_parent\"><img src=\"https://colab.research.google.com/assets/colab-badge.svg\" alt=\"Open In Colab\"/></a>"
      ]
    },
    {
      "cell_type": "code",
      "execution_count": 4,
      "metadata": {
        "id": "51bm-qVvXY1H"
      },
      "outputs": [],
      "source": [
        "import torch\n",
        "import numpy as np"
      ]
    },
    {
      "cell_type": "markdown",
      "source": [
        "Lists"
      ],
      "metadata": {
        "id": "ihy4uiSkYn0h"
      }
    },
    {
      "cell_type": "code",
      "source": [
        "list_1 = [[1, 2, 3, 4], [6, 7]]\n",
        "print(f\"My list: {list_1}\")"
      ],
      "metadata": {
        "colab": {
          "base_uri": "https://localhost:8080/"
        },
        "id": "mpVLr2XgYsD5",
        "outputId": "9f435293-cad2-445b-9340-b14d3230e294"
      },
      "execution_count": 2,
      "outputs": [
        {
          "output_type": "stream",
          "name": "stdout",
          "text": [
            "My list: [[1, 2, 3, 4], [6, 7]]\n"
          ]
        }
      ]
    },
    {
      "cell_type": "markdown",
      "source": [
        "Arrays"
      ],
      "metadata": {
        "id": "wJqJW2i6bSSQ"
      }
    },
    {
      "cell_type": "code",
      "source": [
        "np_1 = np.random.rand(4, 4)\n",
        "np_1"
      ],
      "metadata": {
        "colab": {
          "base_uri": "https://localhost:8080/"
        },
        "id": "W5iaDq8rbWL6",
        "outputId": "a75f6d77-de17-4377-8cf1-337f436e9950"
      },
      "execution_count": 5,
      "outputs": [
        {
          "output_type": "execute_result",
          "data": {
            "text/plain": [
              "array([[0.20602169, 0.38007119, 0.15592516, 0.50211512],\n",
              "       [0.93797667, 0.3488808 , 0.95875958, 0.14172859],\n",
              "       [0.68993076, 0.81110526, 0.18850817, 0.37127732],\n",
              "       [0.38927571, 0.43516792, 0.67533001, 0.4478796 ]])"
            ]
          },
          "metadata": {},
          "execution_count": 5
        }
      ]
    },
    {
      "cell_type": "markdown",
      "source": [
        "Tensors"
      ],
      "metadata": {
        "id": "ARLcYL-ecF3a"
      }
    },
    {
      "cell_type": "code",
      "source": [
        "tensor_first = torch.rand(4, 4)\n",
        "tensor_first"
      ],
      "metadata": {
        "colab": {
          "base_uri": "https://localhost:8080/"
        },
        "id": "s1XH_up1cIqU",
        "outputId": "7adac1ef-4bd3-4a89-b8f3-6f88fc66e3f5"
      },
      "execution_count": 6,
      "outputs": [
        {
          "output_type": "execute_result",
          "data": {
            "text/plain": [
              "tensor([[0.7532, 0.6366, 0.8528, 0.9001],\n",
              "        [0.4143, 0.9369, 0.5449, 0.6044],\n",
              "        [0.1045, 0.9618, 0.8616, 0.4447],\n",
              "        [0.7867, 0.9645, 0.1106, 0.8854]])"
            ]
          },
          "metadata": {},
          "execution_count": 6
        }
      ]
    },
    {
      "cell_type": "code",
      "source": [
        "tensor_3d = torch.rand(3, 3, 4)\n",
        "tensor_3d"
      ],
      "metadata": {
        "colab": {
          "base_uri": "https://localhost:8080/"
        },
        "id": "LriPqL7_c8Nx",
        "outputId": "8ebaa202-fc65-488a-8b46-40e7bf3987e5"
      },
      "execution_count": 7,
      "outputs": [
        {
          "output_type": "execute_result",
          "data": {
            "text/plain": [
              "tensor([[[0.4228, 0.9556, 0.6340, 0.2899],\n",
              "         [0.6080, 0.4377, 0.7523, 0.8570],\n",
              "         [0.2921, 0.3458, 0.2459, 0.0237]],\n",
              "\n",
              "        [[0.4243, 0.1146, 0.5975, 0.3988],\n",
              "         [0.1493, 0.9581, 0.6236, 0.5227],\n",
              "         [0.2255, 0.2780, 0.0022, 0.1066]],\n",
              "\n",
              "        [[0.5991, 0.8017, 0.6107, 0.2694],\n",
              "         [0.3722, 0.7176, 0.9561, 0.5736],\n",
              "         [0.9525, 0.5514, 0.2732, 0.3082]]])"
            ]
          },
          "metadata": {},
          "execution_count": 7
        }
      ]
    },
    {
      "cell_type": "code",
      "source": [
        "tensor_3dz = torch.zeros(3, 3, 4)\n",
        "tensor_3dz"
      ],
      "metadata": {
        "colab": {
          "base_uri": "https://localhost:8080/"
        },
        "id": "eRpBcCcDdNwI",
        "outputId": "9a9ecd63-33d5-4f33-9b64-69af490ecea1"
      },
      "execution_count": 9,
      "outputs": [
        {
          "output_type": "execute_result",
          "data": {
            "text/plain": [
              "tensor([[[0., 0., 0., 0.],\n",
              "         [0., 0., 0., 0.],\n",
              "         [0., 0., 0., 0.]],\n",
              "\n",
              "        [[0., 0., 0., 0.],\n",
              "         [0., 0., 0., 0.],\n",
              "         [0., 0., 0., 0.]],\n",
              "\n",
              "        [[0., 0., 0., 0.],\n",
              "         [0., 0., 0., 0.],\n",
              "         [0., 0., 0., 0.]]])"
            ]
          },
          "metadata": {},
          "execution_count": 9
        }
      ]
    },
    {
      "cell_type": "code",
      "source": [
        "# Create a tensor from a numpy array\n",
        "tensor_arr = torch.tensor(np_1)\n",
        "tensor_arr"
      ],
      "metadata": {
        "colab": {
          "base_uri": "https://localhost:8080/"
        },
        "id": "aS1td-5Xf_ic",
        "outputId": "ddf7dd0b-27ba-4435-bd45-50cc2021b7c2"
      },
      "execution_count": 10,
      "outputs": [
        {
          "output_type": "execute_result",
          "data": {
            "text/plain": [
              "tensor([[0.2060, 0.3801, 0.1559, 0.5021],\n",
              "        [0.9380, 0.3489, 0.9588, 0.1417],\n",
              "        [0.6899, 0.8111, 0.1885, 0.3713],\n",
              "        [0.3893, 0.4352, 0.6753, 0.4479]], dtype=torch.float64)"
            ]
          },
          "metadata": {},
          "execution_count": 10
        }
      ]
    }
  ]
}